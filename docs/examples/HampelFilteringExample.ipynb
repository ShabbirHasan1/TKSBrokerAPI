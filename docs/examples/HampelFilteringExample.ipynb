{
 "cells": [
  {
   "cell_type": "markdown",
   "metadata": {},
   "source": [
    "<a href=\"https://github.com/Tim55667757/TKSBrokerAPI\"><img alt=\"TKSBrokerAPI-Logo\" src=\"https://raw.githubusercontent.com/Tim55667757/TKSBrokerAPI/develop/docs/media/TKSBrokerAPI-Logo.png\" width=\"1200\"/></a>"
   ]
  },
  {
   "cell_type": "markdown",
   "metadata": {},
   "source": [
    "# Как быстро найти аномалии в числовых рядах с помощью метода Хампеля\n",
    "\n",
    "**Авторы:** [Тимур Гильмуллин](https://www.linkedin.com/in/tgilmullin), к.т.н., [Мансур Гильмуллин](http://www.linkedin.com/in/mgilmullin), к.п.н.\n",
    "\n",
    "**Читайте обзорную статью по теме:** https://forworktests.blogspot.com/2022/12/blog-post.html\n",
    "\n",
    "Для работы с примерами в данном ноутбуке вам понадобятся `python >= 3.9` и установленные в него 3-rd party пакеты:\n",
    "- **[PriceGenerator >= 1.2.74](https://github.com/Tim55667757/PriceGenerator/blob/master/README_RU.md)** — этот пакет умеет генерировать временные ряды с данными, похожими на случайные биржевые цены;\n",
    "- **[TKSBrokerAPI >= 1.6.dev136](https://github.com/Tim55667757/TKSBrokerAPI/blob/develop/README.md)** — этот пакет содержит в себе библиотеку [TradeRoutines](https://github.com/Tim55667757/TKSBrokerAPI/blob/develop/tksbrokerapi/TradeRoutines.py), в которой есть необходимые методы для анализа числовых рядов."
   ]
  },
  {
   "cell_type": "code",
   "execution_count": 1,
   "metadata": {},
   "outputs": [
    {
     "name": "stdout",
     "output_type": "stream",
     "text": [
      "Requirement already satisfied: PriceGenerator==1.2.74 in c:\\python3\\envs\\py39\\lib\\site-packages (1.2.74)\n",
      "Requirement already satisfied: requests>=2.25.1pandas>=1.2.2 in c:\\python3\\envs\\py39\\lib\\site-packages (from PriceGenerator==1.2.74) (2.28.1)\n",
      "Requirement already satisfied: bokeh>=2.3.0 in c:\\python3\\envs\\py39\\lib\\site-packages (from PriceGenerator==1.2.74) (2.4.3)\n",
      "Requirement already satisfied: numpy>=1.20.1 in c:\\python3\\envs\\py39\\lib\\site-packages (from PriceGenerator==1.2.74) (1.23.3)\n",
      "Requirement already satisfied: python-dateutil>=2.8.1 in c:\\python3\\envs\\py39\\lib\\site-packages (from PriceGenerator==1.2.74) (2.8.2)\n",
      "Requirement already satisfied: bkcharts>=0.2 in c:\\python3\\envs\\py39\\lib\\site-packages (from PriceGenerator==1.2.74) (0.2)\n",
      "Requirement already satisfied: jinja2>=2.11.3 in c:\\python3\\envs\\py39\\lib\\site-packages (from PriceGenerator==1.2.74) (3.1.2)\n",
      "Requirement already satisfied: pandas-ta>=0.2.45b0 in c:\\python3\\envs\\py39\\lib\\site-packages (from PriceGenerator==1.2.74) (0.3.14b0)\n",
      "Requirement already satisfied: matplotlib>=3.3.4 in c:\\python3\\envs\\py39\\lib\\site-packages (from PriceGenerator==1.2.74) (3.6.1)\n",
      "Requirement already satisfied: six>=1.5.2 in c:\\python3\\envs\\py39\\lib\\site-packages (from bkcharts>=0.2->PriceGenerator==1.2.74) (1.16.0)\n",
      "Requirement already satisfied: PyYAML>=3.10 in c:\\python3\\envs\\py39\\lib\\site-packages (from bokeh>=2.3.0->PriceGenerator==1.2.74) (6.0)\n",
      "Requirement already satisfied: packaging>=16.8 in c:\\python3\\envs\\py39\\lib\\site-packages (from bokeh>=2.3.0->PriceGenerator==1.2.74) (21.3)\n",
      "Requirement already satisfied: tornado>=5.1 in c:\\python3\\envs\\py39\\lib\\site-packages (from bokeh>=2.3.0->PriceGenerator==1.2.74) (6.2)\n",
      "Requirement already satisfied: pillow>=7.1.0 in c:\\python3\\envs\\py39\\lib\\site-packages (from bokeh>=2.3.0->PriceGenerator==1.2.74) (9.2.0)\n",
      "Requirement already satisfied: typing-extensions>=3.10.0 in c:\\python3\\envs\\py39\\lib\\site-packages (from bokeh>=2.3.0->PriceGenerator==1.2.74) (4.4.0)\n",
      "Requirement already satisfied: MarkupSafe>=2.0 in c:\\python3\\envs\\py39\\lib\\site-packages (from jinja2>=2.11.3->PriceGenerator==1.2.74) (2.1.1)\n",
      "Requirement already satisfied: contourpy>=1.0.1 in c:\\python3\\envs\\py39\\lib\\site-packages (from matplotlib>=3.3.4->PriceGenerator==1.2.74) (1.0.5)\n",
      "Requirement already satisfied: pyparsing>=2.2.1 in c:\\python3\\envs\\py39\\lib\\site-packages (from matplotlib>=3.3.4->PriceGenerator==1.2.74) (3.0.9)\n",
      "Requirement already satisfied: cycler>=0.10 in c:\\python3\\envs\\py39\\lib\\site-packages (from matplotlib>=3.3.4->PriceGenerator==1.2.74) (0.11.0)\n",
      "Requirement already satisfied: kiwisolver>=1.0.1 in c:\\python3\\envs\\py39\\lib\\site-packages (from matplotlib>=3.3.4->PriceGenerator==1.2.74) (1.4.4)\n",
      "Requirement already satisfied: fonttools>=4.22.0 in c:\\python3\\envs\\py39\\lib\\site-packages (from matplotlib>=3.3.4->PriceGenerator==1.2.74) (4.37.4)\n",
      "Requirement already satisfied: pandas in c:\\python3\\envs\\py39\\lib\\site-packages (from pandas-ta>=0.2.45b0->PriceGenerator==1.2.74) (1.5.2)\n",
      "Requirement already satisfied: urllib3<1.27,>=1.21.1 in c:\\python3\\envs\\py39\\lib\\site-packages (from requests>=2.25.1pandas>=1.2.2->PriceGenerator==1.2.74) (1.26.12)\n",
      "Requirement already satisfied: certifi>=2017.4.17 in c:\\python3\\envs\\py39\\lib\\site-packages (from requests>=2.25.1pandas>=1.2.2->PriceGenerator==1.2.74) (2022.12.7)\n",
      "Requirement already satisfied: charset-normalizer<3,>=2 in c:\\python3\\envs\\py39\\lib\\site-packages (from requests>=2.25.1pandas>=1.2.2->PriceGenerator==1.2.74) (2.0.4)\n",
      "Requirement already satisfied: idna<4,>=2.5 in c:\\python3\\envs\\py39\\lib\\site-packages (from requests>=2.25.1pandas>=1.2.2->PriceGenerator==1.2.74) (3.4)\n",
      "Requirement already satisfied: pytz>=2020.1 in c:\\python3\\envs\\py39\\lib\\site-packages (from pandas->pandas-ta>=0.2.45b0->PriceGenerator==1.2.74) (2022.1)\n",
      "Requirement already satisfied: TKSBrokerAPI==1.6.dev136 in c:\\python3\\envs\\py39\\lib\\site-packages (1.6.dev136)\n",
      "Requirement already satisfied: pandas>=1.2.2 in c:\\python3\\envs\\py39\\lib\\site-packages (from TKSBrokerAPI==1.6.dev136) (1.5.2)\n",
      "Requirement already satisfied: requests>=2.25.1 in c:\\python3\\envs\\py39\\lib\\site-packages (from TKSBrokerAPI==1.6.dev136) (2.28.1)\n",
      "Requirement already satisfied: python-dateutil>=2.8.1 in c:\\python3\\envs\\py39\\lib\\site-packages (from TKSBrokerAPI==1.6.dev136) (2.8.2)\n",
      "Requirement already satisfied: Mako>=1.2.4 in c:\\python3\\envs\\py39\\lib\\site-packages (from TKSBrokerAPI==1.6.dev136) (1.2.4)\n",
      "Requirement already satisfied: PriceGenerator>=1.2.74 in c:\\python3\\envs\\py39\\lib\\site-packages (from TKSBrokerAPI==1.6.dev136) (1.2.74)\n",
      "Requirement already satisfied: openpyxl>=3.0.10 in c:\\python3\\envs\\py39\\lib\\site-packages (from TKSBrokerAPI==1.6.dev136) (3.0.10)\n",
      "Requirement already satisfied: MarkupSafe>=0.9.2 in c:\\python3\\envs\\py39\\lib\\site-packages (from Mako>=1.2.4->TKSBrokerAPI==1.6.dev136) (2.1.1)\n",
      "Requirement already satisfied: et-xmlfile in c:\\python3\\envs\\py39\\lib\\site-packages (from openpyxl>=3.0.10->TKSBrokerAPI==1.6.dev136) (1.1.0)\n",
      "Requirement already satisfied: pytz>=2020.1 in c:\\python3\\envs\\py39\\lib\\site-packages (from pandas>=1.2.2->TKSBrokerAPI==1.6.dev136) (2022.1)\n",
      "Requirement already satisfied: numpy>=1.20.3 in c:\\python3\\envs\\py39\\lib\\site-packages (from pandas>=1.2.2->TKSBrokerAPI==1.6.dev136) (1.23.3)\n",
      "Requirement already satisfied: matplotlib>=3.3.4 in c:\\python3\\envs\\py39\\lib\\site-packages (from PriceGenerator>=1.2.74->TKSBrokerAPI==1.6.dev136) (3.6.1)\n",
      "Requirement already satisfied: bkcharts>=0.2 in c:\\python3\\envs\\py39\\lib\\site-packages (from PriceGenerator>=1.2.74->TKSBrokerAPI==1.6.dev136) (0.2)\n",
      "Requirement already satisfied: pandas-ta>=0.2.45b0 in c:\\python3\\envs\\py39\\lib\\site-packages (from PriceGenerator>=1.2.74->TKSBrokerAPI==1.6.dev136) (0.3.14b0)\n",
      "Requirement already satisfied: jinja2>=2.11.3 in c:\\python3\\envs\\py39\\lib\\site-packages (from PriceGenerator>=1.2.74->TKSBrokerAPI==1.6.dev136) (3.1.2)\n",
      "Requirement already satisfied: bokeh>=2.3.0 in c:\\python3\\envs\\py39\\lib\\site-packages (from PriceGenerator>=1.2.74->TKSBrokerAPI==1.6.dev136) (2.4.3)\n",
      "Requirement already satisfied: six>=1.5 in c:\\python3\\envs\\py39\\lib\\site-packages (from python-dateutil>=2.8.1->TKSBrokerAPI==1.6.dev136) (1.16.0)\n",
      "Requirement already satisfied: idna<4,>=2.5 in c:\\python3\\envs\\py39\\lib\\site-packages (from requests>=2.25.1->TKSBrokerAPI==1.6.dev136) (3.4)\n",
      "Requirement already satisfied: charset-normalizer<3,>=2 in c:\\python3\\envs\\py39\\lib\\site-packages (from requests>=2.25.1->TKSBrokerAPI==1.6.dev136) (2.0.4)\n",
      "Requirement already satisfied: certifi>=2017.4.17 in c:\\python3\\envs\\py39\\lib\\site-packages (from requests>=2.25.1->TKSBrokerAPI==1.6.dev136) (2022.12.7)\n",
      "Requirement already satisfied: urllib3<1.27,>=1.21.1 in c:\\python3\\envs\\py39\\lib\\site-packages (from requests>=2.25.1->TKSBrokerAPI==1.6.dev136) (1.26.12)\n",
      "Requirement already satisfied: tornado>=5.1 in c:\\python3\\envs\\py39\\lib\\site-packages (from bokeh>=2.3.0->PriceGenerator>=1.2.74->TKSBrokerAPI==1.6.dev136) (6.2)\n",
      "Requirement already satisfied: PyYAML>=3.10 in c:\\python3\\envs\\py39\\lib\\site-packages (from bokeh>=2.3.0->PriceGenerator>=1.2.74->TKSBrokerAPI==1.6.dev136) (6.0)\n",
      "Requirement already satisfied: packaging>=16.8 in c:\\python3\\envs\\py39\\lib\\site-packages (from bokeh>=2.3.0->PriceGenerator>=1.2.74->TKSBrokerAPI==1.6.dev136) (21.3)\n",
      "Requirement already satisfied: typing-extensions>=3.10.0 in c:\\python3\\envs\\py39\\lib\\site-packages (from bokeh>=2.3.0->PriceGenerator>=1.2.74->TKSBrokerAPI==1.6.dev136) (4.4.0)\n",
      "Requirement already satisfied: pillow>=7.1.0 in c:\\python3\\envs\\py39\\lib\\site-packages (from bokeh>=2.3.0->PriceGenerator>=1.2.74->TKSBrokerAPI==1.6.dev136) (9.2.0)\n",
      "Requirement already satisfied: cycler>=0.10 in c:\\python3\\envs\\py39\\lib\\site-packages (from matplotlib>=3.3.4->PriceGenerator>=1.2.74->TKSBrokerAPI==1.6.dev136) (0.11.0)\n",
      "Requirement already satisfied: contourpy>=1.0.1 in c:\\python3\\envs\\py39\\lib\\site-packages (from matplotlib>=3.3.4->PriceGenerator>=1.2.74->TKSBrokerAPI==1.6.dev136) (1.0.5)\n",
      "Requirement already satisfied: fonttools>=4.22.0 in c:\\python3\\envs\\py39\\lib\\site-packages (from matplotlib>=3.3.4->PriceGenerator>=1.2.74->TKSBrokerAPI==1.6.dev136) (4.37.4)\n",
      "Requirement already satisfied: kiwisolver>=1.0.1 in c:\\python3\\envs\\py39\\lib\\site-packages (from matplotlib>=3.3.4->PriceGenerator>=1.2.74->TKSBrokerAPI==1.6.dev136) (1.4.4)\n",
      "Requirement already satisfied: pyparsing>=2.2.1 in c:\\python3\\envs\\py39\\lib\\site-packages (from matplotlib>=3.3.4->PriceGenerator>=1.2.74->TKSBrokerAPI==1.6.dev136) (3.0.9)\n"
     ]
    }
   ],
   "source": [
    "# Установим указанные выше pip-пакеты в текущий Jupyter kernel:\n",
    "import sys\n",
    "\n",
    "import bokeh.plotting\n",
    "\n",
    "!{sys.executable} -m pip install PriceGenerator==1.2.74\n",
    "!{sys.executable} -m pip install TKSBrokerAPI==1.6.dev136"
   ]
  },
  {
   "cell_type": "code",
   "execution_count": 2,
   "outputs": [],
   "source": [
    "# Импортируем все необходимые для работы ноутбука и примеров библиотеки:\n",
    "from datetime import datetime, timedelta\n",
    "import pandas as pd\n",
    "\n",
    "from pricegenerator.PriceGenerator import PriceGenerator, uLogger\n",
    "from tksbrokerapi.TradeRoutines import HampelFilter, HampelAnomalyDetection"
   ],
   "metadata": {
    "collapsed": false
   }
  },
  {
   "cell_type": "markdown",
   "source": [
    "## Введение\n",
    "\n",
    "На практике очень часто встречаются задачи, для решения которых требуется найти аномалии в числовых рядах. Для простоты понимания можно считать, что это такие значения, которые отличаются от большинства чисел в ряде по некоторым признакам (выброс, нестандартное значение или отклонение от нормы). Такие задачи встречаются в различных областях:\n",
    "\n",
    "- очистка зашумлённых данных в датасайнс ([Data Science](https://en.wikipedia.org/wiki/Data_science));\n",
    "- фильтрация выбросов в обучающей выборке для нейросетей в машинном обучении ([Machine Learning](https://en.wikipedia.org/wiki/Machine_learning));\n",
    "- поиск аномальной сетевой хакерской активности, при мониторинге трафика и событий в кибербезопасности ([Cybersecurity](https://en.wikipedia.org/wiki/Cyber_security);\n",
    "- выявление выбросов или хвостов в потоке биржевых данных в алгоритмической торговле ([Algorithmic Trading](https://en.wikipedia.org/wiki/Algorithmic_trading));\n",
    "- а также в любых задачах на поиск аномалий, где данные могут быть представлены в виде числового ряда.\n",
    "\n",
    "Понятия числового ряда в математическом анализе и в статистике отличаются. Мы принимаем под числовым рядом его статистическое понимание, то есть конечную последовательность чисел (аналог выборки). Далее разберём различные толкования аномалии и примеры, как быстро и эффективно найти аномалии в числовых рядах с помощью модифицированного **метода Хампеля** (Hampel F.R.)."
   ],
   "metadata": {
    "collapsed": false
   }
  },
  {
   "cell_type": "markdown",
   "metadata": {},
   "source": [
    "## Понятие аномалии числового ряда\n",
    "\n",
    "Традиционно наиболее полезными оценками для характеристики вариативности данных считаются выборочное среднее ([sample mean](https://en.wikipedia.org/wiki/Sample_mean_and_covariance)) и дисперсия ([variance](https://en.wikipedia.org/wiki/Variance)) выборки. Они дают хорошую оценку местоположения и разброса данных в выборке, но только если выбросы её «не загрязняют». Даже если данные содержат только одно наблюдение, которое значительно отличается от остальных в выборке, то выборочное среднее может также значительно отклоняться от среднего в выборке без этого выброса.\n",
    "\n",
    "Чтобы измерить устойчивость выбранного метода статистической оценки к выбросам, Хампель ввёл понятие точки разрыва ([breakdown point](https://en.wikipedia.org/wiki/Robust_statistics#Breakdown_point)). **_Точка разрыва_** — это наибольший процент «загрязнённых данных» (доля неправильных наблюдений или выбросов), которые выбранный метод может обработать, прежде чем начнёт выдавать неверный результат. Это могут быть произвольно большие аберрантные (отклоняющиеся от нормы, ошибочные) значения. Очевидно, что точка разрыва не может превышать 50%. Чтобы более надёжно оценивать местоположение и разброс элементов выборки, часто рекомендуют комбинировать медиану и среднее абсолютное отклонение ([MAD, Median Absolute Deviation](https://en.wikipedia.org/wiki/Median_absolute_deviation)). Именно они лежат в основе метода фильтрации выборки на выбросы по Хампелю [1].\n",
    "\n",
    "Значение **MAD** вычисляется так:\n",
    "\n",
    "( 1 )   MAD (X) = Median ( | x1 − Median (X) | , ..., | xn − Median (X) | ), где X — выборка из n наблюдений x1, ..., xn.\n",
    "\n",
    "По Хампелю, под **_выбросом ([outlier](https://en.wikipedia.org/wiki/Outlier)) выборки_** понимается такое число x из выборки X, модуль разности которого и медианы выборки больше, чем MAD выборки, вычисленное по формуле (1) и умноженное на специальный коэффициент k ([scale factor](https://en.wikipedia.org/wiki/Scale_parameter#Estimation)), зависящий от распределения (≈1.4826 для нормального) [2].\n",
    "\n",
    "На практике для построения фильтра выбросов Хампеля это определение модифицируется с использованием скользящих окон ([sliding windows](https://www.geeksforgeeks.org/window-sliding-technique/)) и параметра s ([sigma](https://en.wikipedia.org/wiki/Standard_deviation)), порогового количества стандартных отклонений. Это значит, что медиана и MAD вычисляются для всех скользящих окон, состоящих из элементов выборки. Далее все модули разности элементов выборки и медианы сравниваются с MAD, умноженный на коэффициент k и умноженный на параметр s [3]. Более высокий порог s стандартного отклонения делает фильтр более щадящим, более низкий порог идентифицирует больше чисел как выбросы.\n",
    "\n",
    "Теперь определимся с основным понятием: что мы будем понимать под аномалией в конечном числовом ряду для практических задач.\n",
    "\n",
    "**Определение 1.** Под **аномалией (anomaly) числового ряда** понимается такое число x из ряда X, которое по модулю отличается от медианы скользящего окна более чем в s раз от MAD этого окна, умноженного на коэффициент k.\n",
    "\n",
    "Для того чтобы максимально обобщить фильтр аномалий и абстрагировать его от решаемой практической задачи, предлагаем следующее теоретико-множественное толкование.\n",
    "\n",
    "Все аномалии ряда образуют его некоторое подмножество A:\n",
    "\n",
    "( 2 )   A = { a | | a − Median (Xi) | > s ∙ k ∙ MAD (Xi) }, где a — аномальный элемент из X, вычисленный согласно определению 1, Х — исходный числовой ряд, Xi — ряд чисел i-го скользящего окна, всего окон: ( n − w + 1 ), где w — размер окна.\n",
    "\n",
    "Фильтр аномалий числового ряда определим как функцию:\n",
    "\n",
    "( 3 )   F: X → { True, False }. F (xi) = True, если xi ∈ A; False, если xi ∉ A. Здесь Х — исходный числовой ряд, состоящий из n элементов xi, A — множество аномалий (2)."
   ]
  },
  {
   "cell_type": "markdown",
   "metadata": {},
   "source": [
    "## Фильтрация числового ряда на аномалии методом Хампеля\n",
    "\n",
    "Для фильтрации числового ряда на наличие в нём аномалий, предлагается использовать Python-реализацию функции [`HampelFilter()`](https://tim55667757.github.io/TKSBrokerAPI/docs/tksbrokerapi/TradeRoutines.html#HampelFilter) из библиотеки [`TKSBrokerAPI`](https://github.com/Tim55667757/TKSBrokerAPI). Эта функция позволяет обнаружить аномалию среди значений любого числового ряда, используя метод фильтрации по Хампелю. Фильтр обнаруживает аномалии, определяемые согласно (2).\n",
    "\n",
    "Настраиваемые параметры: `window` (переменная w из формул выше) — размер скользящего окна (по умолчанию 5), `sigma` (переменная s) — пороговое количество стандартных отклонений (по умолчанию 3), `scaleFactor` (переменная k) — специальный коэффициент, зависящий от распределения ряда (по умолчанию 1.4826).\n",
    "\n",
    "Функция фильтрации `HampelFilter()` возвращает новый ряд F, согласно (3) состоящий из значений `True` или `False`, где `True` означает наличие аномального элемента на соответствующей позиции в исходном ряду."
   ]
  },
  {
   "cell_type": "markdown",
   "source": [
    "Будет проще понять как работает эта функция и что считает за аномалии на конкретных примерах. Сначала рассмотрим фильтрацию числовых рядов со значениями параметров по умолчанию:"
   ],
   "metadata": {
    "collapsed": false
   }
  },
  {
   "cell_type": "code",
   "execution_count": 3,
   "outputs": [
    {
     "name": "stdout",
     "output_type": "stream",
     "text": [
      "Input series 1:  [10, 10, 10, 10, 10]\n",
      "C:\\python3\\envs\\py39\\lib\\site-packages\\tksbrokerapi\\TradeRoutines.py:330: FutureWarning: The behavior of `series[i:j]` with an integer-dtype index is deprecated. In a future version, this will be treated as *label-based* indexing, consistent with e.g. `series[i]` lookups. To retain the old behavior, use `series.iloc[i:j]`. To get the future behavior, use `series.loc[i:j]`.\n",
      "  new = new[window: -window]\n",
      "Output series 1: [False, False, False, False, False]\n",
      "Input series 2:  [1, 10, 10, 10, 10]\n",
      "Output series 2: [True, False, False, False, False]\n",
      "Input series 3:  [1, 5, 10, 10, 10]\n",
      "Output series 3: [True, True, False, False, False]\n",
      "Input series 4:  [1, 5, 1, 1, 1]\n",
      "Output series 4: [False, True, False, False, False]\n"
     ]
    }
   ],
   "source": [
    "testData1 = [\n",
    "    pd.Series([10, 10, 10, 10, 10]),  # [False, False, False, False, False], здесь все элементы равны, нет ни одного \"подозрительного\" элемента, значит и аномалий нет.\n",
    "    pd.Series([1, 10, 10, 10, 10]),  # [True, False, False, False, False], здесь первый элемент явно выбивается из общего ряда, поэтому он аномальный.\n",
    "    pd.Series([1, 5, 10, 10, 10]),  # [True, True, False, False, False], в этом ряду больше элементов равных 10, первые два выбиваются из общей картины, значит они оба аномальные.\n",
    "    pd.Series([1, 5, 1, 1, 1]),  # [False, True, False, False, False], аналогично, как во втором примере, второй элемент аномальный, потому что отличается от большинства в ряду.\n",
    "]\n",
    "for i, test in enumerate(testData1):\n",
    "    print(\"Input series {}:  {}\".format(i + 1, list(test)))\n",
    "    print(\"Output series {}: {}\".format(i + 1, list(HampelFilter(test))))"
   ],
   "metadata": {
    "collapsed": false
   }
  },
  {
   "cell_type": "markdown",
   "source": [
    "По умолчанию размер скользящего окна равен 5, то есть совпадал с длиной ряда в примере выше. Давайте посмотрим, что изменится, если установить размер скользящего окна равным 3. Сначала на тех же примерах, а затем добавим новые:"
   ],
   "metadata": {
    "collapsed": false
   }
  },
  {
   "cell_type": "code",
   "execution_count": 4,
   "outputs": [
    {
     "name": "stdout",
     "output_type": "stream",
     "text": [
      "Input series 1:  [10, 10, 10, 10, 10]\n",
      "Output series 1: [False, False, False, False, False]\n",
      "Input series 2:  [1, 10, 10, 10, 10]\n",
      "Output series 2: [True, False, False, False, False]\n",
      "Input series 3:  [1, 5, 10, 10, 10]\n",
      "Output series 3: [False, False, False, False, False]\n",
      "Input series 4:  [1, 5, 1, 1, 1]\n",
      "Output series 4: [False, True, False, False, False]\n",
      "Input series 5:  [1, 10, 10, 1, 10, 1]\n",
      "Output series 5: [True, False, False, False, False, False]\n",
      "Input series 6:  [1, 10, 10, 10, 10, 1]\n",
      "Output series 6: [True, False, False, False, False, True]\n",
      "Input series 7:  [1, 1, 1, 10, 10, 10]\n",
      "Output series 7: [False, False, False, False, False, False]\n"
     ]
    }
   ],
   "source": [
    "testData2 = [\n",
    "    pd.Series([10, 10, 10, 10, 10]),  # [False, False, False, False, False], не должно ничего измениться, по сравнению с примером выше, т.к. здесь нет аномалий.\n",
    "    pd.Series([1, 10, 10, 10, 10]),  # [True, False, False, False, False], нет изменений, т.к. здесь один аномальный элемент.\n",
    "    pd.Series([1, 5, 10, 10, 10]),  # [False, False, False, False, False], а вот тут первые два элемента уже не считаются аномалией.\n",
    "    pd.Series([1, 5, 1, 1, 1]),  # [False, True, False, False, False], нет изменений, т.к. здесь один явно выраженный аномальный элемент.\n",
    "    # Новые числовые серии:\n",
    "    pd.Series([1, 10, 10, 1, 10, 1]),  # [True, False, False, False, False, False]\n",
    "    pd.Series([1, 10, 10, 10, 10, 1]),  # [True, False, False, False, False, True]\n",
    "    pd.Series([1, 1, 1, 10, 10, 10]),  # [False, False, False, False, False, False]\n",
    "]\n",
    "for i, test in enumerate(testData2):\n",
    "    print(\"Input series {}:  {}\".format(i + 1, list(test)))\n",
    "    print(\"Output series {}: {}\".format(i + 1, list(HampelFilter(test, window=3))))"
   ],
   "metadata": {
    "collapsed": false
   }
  },
  {
   "cell_type": "markdown",
   "source": [
    "В первых двух и четвёртой серии изменений по сравнению с предыдущим примером нет. Обратите внимание на третью числовую серию. В ней первые два элемента, которые раньше считались как аномальные, теперь игнорируются. Посмотрите на предыдущий пример, где `window = 5`, на этот пример, где `window = 3`, и на формулы (1) и (2). Подумайте и попробуйте объяснить самостоятельно, почему так произошло?\n",
    "\n",
    "Ответив на этот вопрос, по аналогии вы сможете понять, почему в пятой числовой серии получился только один аномальный элемент, хотя кажется, что должны быть ещё. А также, почему при достаточно малом размере окна не удалось выявить аномалии в седьмом ряду. Кстати, их не получится выявить и при других размерах окна. Подставьте последовательно `window = 2, 4, 5, 6` и убедитесь в этом самостоятельно. Почему в седьмом числовом ряду нет аномалии?\n",
    "\n",
    "Попробуйте также поэкспериментировать с другими двумя параметрами `sigma` и `scaleFactor` на тех же примерах, и посмотрите как изменится результат."
   ],
   "metadata": {
    "collapsed": false
   }
  },
  {
   "cell_type": "markdown",
   "source": [
    "## Поиск индекса первого аномального элемента\n",
    "\n",
    "На практике часто бывает нужно определить только первый аномальный или первый среди наибольших в числовом ряду элемент. Для этого можно использовать Python-реализацию функции [`HampelAnomalyDetection()`](https://tim55667757.github.io/TKSBrokerAPI/docs/tksbrokerapi/TradeRoutines.html#HampelAnomalyDetection) из библиотеки [`TKSBrokerAPI`](https://github.com/Tim55667757/TKSBrokerAPI). Эта функция возвращает минимальный индекс элемента в списке найденных аномалий или индекс первого максимального элемента во входном ряду, если его индекс меньше индекса аномального элемента. Если в числовом ряду нет аномалий или все элементы равны (нет максимумов), то возвращается None.\n",
    "\n",
    "Если вы поняли, как работает предыдущая функция `HampelFilter()` и как она фильтрует аномалии, то в примерах ниже вам будет легко понять, почему возвращается тот или иной индекс элемента в качестве аномального. Но нужно помнить, что здесь учитывается наличие и местоположение максимальных элементов ряда. Попробуйте объяснить следующие примеры и ответы:"
   ],
   "metadata": {
    "collapsed": false
   }
  },
  {
   "cell_type": "code",
   "execution_count": 5,
   "outputs": [
    {
     "name": "stdout",
     "output_type": "stream",
     "text": [
      "Input series 1: [1, 1, 1, 1, 111, 1]. Output index: 4\n",
      "Input series 2: [1, 1, 10, 1, 1, 1]. Output index: 2\n",
      "Input series 3: [111, 1, 1, 1, 1, 1]. Output index: 0\n",
      "Input series 4: [111, 1, 1, 1, 1, 111]. Output index: 0\n",
      "Input series 5: [1, 11, 1, 111, 1, 1]. Output index: 1\n",
      "Input series 6: [1, 1, 1, 111, 99, 11]. Output index: 3\n",
      "Input series 7: [-111, 1, 1, 1, 1]. Output index: 0\n",
      "Input series 8: [1, 2, 1, -1, 1]. Output index: 1\n",
      "Input series 9: [1]. Output index: None\n",
      "Input series 10: [1, 2]. Output index: None\n",
      "Input series 11: [1, 1, 1, 1, 1, 1]. Output index: None\n"
     ]
    }
   ],
   "source": [
    "testData3 = [\n",
    "    pd.Series([1, 1, 1, 1, 111, 1]),  #4\n",
    "    pd.Series([1, 1, 10, 1, 1, 1]),  #2\n",
    "    pd.Series([111, 1, 1, 1, 1, 1]),  #0\n",
    "    pd.Series([111, 1, 1, 1, 1, 111]),  #0\n",
    "    pd.Series([1, 11, 1, 111, 1, 1]),  #1\n",
    "    pd.Series([1, 1, 1, 111, 99, 11]),  #3\n",
    "    pd.Series([-111, 1, 1, 1, 1]),  #0\n",
    "    pd.Series([1, 2, 1, -1, 1]),  #1\n",
    "    pd.Series([1]),  #None\n",
    "    pd.Series([1, 2]),  #None\n",
    "    pd.Series([1, 1, 1, 1, 1, 1]),  #None\n",
    "]\n",
    "for i, test in enumerate(testData3):\n",
    "    print(\"Input series {}: {}. Output index: {}\".format(i + 1, list(test), HampelAnomalyDetection(test)))"
   ],
   "metadata": {
    "collapsed": false
   }
  },
  {
   "cell_type": "markdown",
   "source": [
    "Как вы думаете, как изменятся ответы функции `HampelAnomalyDetection()` при подстановке других значений в параметрах `window`, `sigma` и `scaleFactor`? Поэкспериментируйте на тех же примерах и проверьте свои предположения."
   ],
   "metadata": {
    "collapsed": false
   }
  },
  {
   "cell_type": "markdown",
   "metadata": {},
   "source": [
    "## Фильтрация биржевых цен на аномалии\n",
    "\n",
    "Рассмотрим фильтрацию по Хампелю на примере практической задачи выявления аномалий в ценовом ряду. Для получения нужного нам ряда с выбросами воспользуемся библиотекой для генерации тестовых биржевых данных **[PriceGenerator](https://github.com/Tim55667757/PriceGenerator/blob/master/README_RU.md)**.\n",
    "\n",
    "Обычно трейдеры и аналитики используют ценовую модель в виде временного ряда OHLCV-candlesticks (open, high, low, close, volume), так называемых японских свечей. Одна строка таких данных представляет собой набор цен для построения одной свечи: дата открытия, цена открытия, наибольшая цена, наименьшая цена, цена закрытия на данном временном интервале и значение объёма торгов.\n",
    "\n",
    "PriceGenerator — это простая библиотека, которую можно использовать как модуль Python или запускать из командной строки и генерировать случайные ценовые данные, максимально похожие на \"настоящие цены\", но с заранее заданными статистическими характеристиками. В библиотеке PriceGenerator можно задать интервал цен, таймфрейм, максимальное и минимальное значения для диапазона цен, максимальный размер для свечей, вероятность направления для очередной свечи, вероятность ценовых выбросов, количество генерируемых свечей и некоторые другие параметры.\n",
    "\n",
    "Давайте сгенерируем ценовой ряд со следующими характеристиками:\n",
    "- цены на графике состоят только из целых чисел (для простоты);\n",
    "- интервал свечей: 1 день;\n",
    "- горизонт генерации: 75 свечей;\n",
    "- максимальная цена close: не более 140;\n",
    "- минимальная цена close: не менее 40;\n",
    "- начать ряд с цены close: 50;\n",
    "- максимальный выброс \"хвостов\" свечей: 35;\n",
    "- максимальный размер \"тела\" свечей: 15;\n",
    "- вероятность того, что очередная генерируемая свеча будет вверх: 51%;\n",
    "- вероятность того, что очередная генерируемая свеча будет иметь \"выброс\" вверх или вниз: 10%;\n",
    "- общий тренд: пусть сначала будет растущий (40 свечей), затем падающий (10 свечей), затем опять растущий тренд (25 свечей).\n",
    "\n",
    "Если вы запускаете PriceGenerator в консоли, для получения указанных характеристик ряда нужно указать параметры:\n",
    "\n",
    "`pricegenerator --debug-level 10 --ticker \"TEST_PRICES\" --precision 0 --timeframe 1440 --horizon 75 --max-close 140 --min-close 40 --init-close 50 --max-outlier 35 --max-body 15 --max-volume 400000 --up-candles-prob 0.51 --outliers-prob 0.1 --trend-deviation 0.005 --split-trend \"/\\/\" --split-count 40 10 25 --generate --render-google index.html`\n",
    "\n",
    "Или можно использовать следующий код на Python:"
   ]
  },
  {
   "cell_type": "code",
   "execution_count": 6,
   "metadata": {},
   "outputs": [],
   "source": [
    "uLogger.setLevel(0)  # Отключаем стандартное логирование модуля PriceGenerator, чтобы не путать их с нашими данными\n",
    "\n",
    "# --- Инициализируем экземпляр класса генератора и настраиваем некоторые параметры:\n",
    "priceModel = PriceGenerator()\n",
    "priceModel.ticker = \"TEST_PRICES\"  # Произвольное имя (тикер) генерируемых цен.\n",
    "priceModel.precision = 0  # Сколько знаков после запятой должно быть в сгенерированных ценах, по умолчанию 2.\n",
    "priceModel.timeframe = timedelta(days=1)  # Временной интервал между генерируемыми свечами, 1 час по умолчанию.\n",
    "priceModel.timeStart = datetime.today()  # С какой даты начинать генерацию свечей, по умолчанию с текущего времени.\n",
    "priceModel.horizon = 75  # Сколько сгенерировать свечей, их должно быть не меньше 5-ти, по умолчанию 100.\n",
    "priceModel.maxClose = 140  # Максимальная цена закрытия свечи во всей цепочке цен. Больше этого числа цена close любой свечи\n",
    "                           # быть не может. По умолчанию число генерируется случайно в интервале (70, 90).\n",
    "priceModel.minClose = 40  # Минимальная цена закрытия свечи во всей цепочке цен. Меньше этого числа цена close любой свечи\n",
    "                           # быть не может. По умолчанию генерируется случайно в интервале (60, 70).\n",
    "priceModel.initClose = 50  # Если этот параметр указан, то цена будет ценой close как бы \"предыдущей\" свечи.\n",
    "                            # и одновременно ценой open самой первой свечи в генерируемой цепочке.\n",
    "                            # None (по умолчанию) означает, что цена open первой свечи будет сгенерирована случайно\n",
    "                            # в интервале (minClose, maxClose).\n",
    "priceModel.maxOutlier = 35  # Максимальное значение для ценовых выбросов \"хвостов\" у свечей.\n",
    "                            # None (по умолчанию) означает, что выбросы будут не более чем на (maxClose - minClose) / 10.\n",
    "priceModel.maxCandleBody = 15  # Максимальное значение для размера тел свечей abs(open - close).\n",
    "                               # None по умолчанию означает, что тело свечи может быть не более чем\n",
    "                               # 90% от размера максимального выброса: maxOutlier * 90%.\n",
    "priceModel.maxVolume = 400000  # Максимальное значение объёма торгов для одной свечи.\n",
    "                               # По умолчанию берётся случайным образом из интервала (0, 100000).\n",
    "priceModel.upCandlesProb = 0.51  # Вероятность того, что очередная генерируемая свеча будет вверх, 50% по умолчанию.\n",
    "priceModel.outliersProb = 0.1  # Вероятность того, что очередная генерируемая свеча будет иметь \"выброс\", 3% по умолчанию.\n",
    "priceModel.trendDeviation = 0.005  # Колебание цен close первой и последней свечей для определения тренда.\n",
    "                                   # \"NO trend\" если разница меньше этого значения. По умолчанию ±0.005 или ±0.5%.\n",
    "priceModel.trendSplit = \"/\\/\"  # Пусть сначала будет растущий, затем падающий, затем опять растущий тренд.\n",
    "priceModel.splitCount = [40, 10, 25]  # Число свечей в каждом тренде."
   ]
  },
  {
   "cell_type": "markdown",
   "metadata": {},
   "source": [
    "Запускаем генератор цен. После генерации они будут сохранены в переменной `priceModel.prices` в формате Pandas DataFrame:"
   ]
  },
  {
   "cell_type": "code",
   "execution_count": 10,
   "metadata": {},
   "outputs": [
    {
     "data": {
      "text/plain": "                           datetime   open   high   low  close  volume\n0  2023-01-01 13:03:40.457877+03:00   50.0   56.0  49.0   56.0  226289\n1  2023-01-02 13:03:40.457877+03:00   56.0   56.0  55.0   55.0  220720\n2  2023-01-03 13:03:40.457877+03:00   55.0   57.0  54.0   57.0  319989\n3  2023-01-04 13:03:40.457877+03:00   57.0   63.0  56.0   61.0  352994\n4  2023-01-05 13:03:40.457877+03:00   61.0   81.0  54.0   76.0  354851\n..                              ...    ...    ...   ...    ...     ...\n70 2023-03-12 13:03:40.457877+03:00  109.0  111.0  95.0   97.0  137348\n71 2023-03-13 13:03:40.457877+03:00   97.0   97.0  79.0   83.0  262121\n72 2023-03-14 13:03:40.457877+03:00   83.0   86.0  68.0   69.0  208845\n73 2023-03-15 13:03:40.457877+03:00   69.0  109.0  56.0   82.0  174972\n74 2023-03-16 13:03:40.457877+03:00   82.0   94.0  78.0  118.0   11416\n\n[75 rows x 6 columns]",
      "text/html": "<div>\n<style scoped>\n    .dataframe tbody tr th:only-of-type {\n        vertical-align: middle;\n    }\n\n    .dataframe tbody tr th {\n        vertical-align: top;\n    }\n\n    .dataframe thead th {\n        text-align: right;\n    }\n</style>\n<table border=\"1\" class=\"dataframe\">\n  <thead>\n    <tr style=\"text-align: right;\">\n      <th></th>\n      <th>datetime</th>\n      <th>open</th>\n      <th>high</th>\n      <th>low</th>\n      <th>close</th>\n      <th>volume</th>\n    </tr>\n  </thead>\n  <tbody>\n    <tr>\n      <th>0</th>\n      <td>2023-01-01 13:03:40.457877+03:00</td>\n      <td>50.0</td>\n      <td>56.0</td>\n      <td>49.0</td>\n      <td>56.0</td>\n      <td>226289</td>\n    </tr>\n    <tr>\n      <th>1</th>\n      <td>2023-01-02 13:03:40.457877+03:00</td>\n      <td>56.0</td>\n      <td>56.0</td>\n      <td>55.0</td>\n      <td>55.0</td>\n      <td>220720</td>\n    </tr>\n    <tr>\n      <th>2</th>\n      <td>2023-01-03 13:03:40.457877+03:00</td>\n      <td>55.0</td>\n      <td>57.0</td>\n      <td>54.0</td>\n      <td>57.0</td>\n      <td>319989</td>\n    </tr>\n    <tr>\n      <th>3</th>\n      <td>2023-01-04 13:03:40.457877+03:00</td>\n      <td>57.0</td>\n      <td>63.0</td>\n      <td>56.0</td>\n      <td>61.0</td>\n      <td>352994</td>\n    </tr>\n    <tr>\n      <th>4</th>\n      <td>2023-01-05 13:03:40.457877+03:00</td>\n      <td>61.0</td>\n      <td>81.0</td>\n      <td>54.0</td>\n      <td>76.0</td>\n      <td>354851</td>\n    </tr>\n    <tr>\n      <th>...</th>\n      <td>...</td>\n      <td>...</td>\n      <td>...</td>\n      <td>...</td>\n      <td>...</td>\n      <td>...</td>\n    </tr>\n    <tr>\n      <th>70</th>\n      <td>2023-03-12 13:03:40.457877+03:00</td>\n      <td>109.0</td>\n      <td>111.0</td>\n      <td>95.0</td>\n      <td>97.0</td>\n      <td>137348</td>\n    </tr>\n    <tr>\n      <th>71</th>\n      <td>2023-03-13 13:03:40.457877+03:00</td>\n      <td>97.0</td>\n      <td>97.0</td>\n      <td>79.0</td>\n      <td>83.0</td>\n      <td>262121</td>\n    </tr>\n    <tr>\n      <th>72</th>\n      <td>2023-03-14 13:03:40.457877+03:00</td>\n      <td>83.0</td>\n      <td>86.0</td>\n      <td>68.0</td>\n      <td>69.0</td>\n      <td>208845</td>\n    </tr>\n    <tr>\n      <th>73</th>\n      <td>2023-03-15 13:03:40.457877+03:00</td>\n      <td>69.0</td>\n      <td>109.0</td>\n      <td>56.0</td>\n      <td>82.0</td>\n      <td>174972</td>\n    </tr>\n    <tr>\n      <th>74</th>\n      <td>2023-03-16 13:03:40.457877+03:00</td>\n      <td>82.0</td>\n      <td>94.0</td>\n      <td>78.0</td>\n      <td>118.0</td>\n      <td>11416</td>\n    </tr>\n  </tbody>\n</table>\n<p>75 rows × 6 columns</p>\n</div>"
     },
     "execution_count": 10,
     "metadata": {},
     "output_type": "execute_result"
    }
   ],
   "source": [
    "priceModel.Generate()\n",
    "priceModel.prices  # Сгенерированный Pandas DataFrame со столбцами \"datetime\", \"open\", \"high\", \"low\", \"close\" и \"volume\"."
   ]
  },
  {
   "cell_type": "markdown",
   "metadata": {},
   "source": [
    "Можно сохранить сгенерированные OHLCV-свечи в .csv-файл:"
   ]
  },
  {
   "cell_type": "code",
   "execution_count": 11,
   "metadata": {},
   "outputs": [],
   "source": [
    "priceModel.SaveToFile(fileName=\"test.csv\")"
   ]
  },
  {
   "cell_type": "markdown",
   "metadata": {},
   "source": [
    "В PriceGenerator также можно сохранить график цен в виде html-файла. Метод `RenderGoogle()` создаёт статический график, а метод `RenderBokeh()` — интерактивный. Графики можно открыть здесь, в браузере, если указать параметр `viewInBrowser=True`. А интерактивный график Bokeh также можно отобразить в ячейке ноутбука, если указать параметр `inline=True`. Давайте получим представление о сгенерированных свечах:"
   ]
  },
  {
   "cell_type": "code",
   "execution_count": 9,
   "metadata": {},
   "outputs": [
    {
     "ename": "TypeError",
     "evalue": "RenderBokeh() got an unexpected keyword argument 'title'",
     "output_type": "error",
     "traceback": [
      "\u001B[1;31m---------------------------------------------------------------------------\u001B[0m",
      "\u001B[1;31mTypeError\u001B[0m                                 Traceback (most recent call last)",
      "Cell \u001B[1;32mIn[9], line 2\u001B[0m\n\u001B[0;32m      1\u001B[0m priceModel\u001B[38;5;241m.\u001B[39mRenderGoogle(fileName\u001B[38;5;241m=\u001B[39m\u001B[38;5;124m\"\u001B[39m\u001B[38;5;124mgooglechart.html\u001B[39m\u001B[38;5;124m\"\u001B[39m, viewInBrowser\u001B[38;5;241m=\u001B[39m\u001B[38;5;28;01mFalse\u001B[39;00m)\n\u001B[1;32m----> 2\u001B[0m \u001B[43mpriceModel\u001B[49m\u001B[38;5;241;43m.\u001B[39;49m\u001B[43mRenderBokeh\u001B[49m\u001B[43m(\u001B[49m\u001B[43mfileName\u001B[49m\u001B[38;5;241;43m=\u001B[39;49m\u001B[38;5;124;43m\"\u001B[39;49m\u001B[38;5;124;43mbokehchart.html\u001B[39;49m\u001B[38;5;124;43m\"\u001B[39;49m\u001B[43m,\u001B[49m\u001B[43m \u001B[49m\u001B[43mviewInBrowser\u001B[49m\u001B[38;5;241;43m=\u001B[39;49m\u001B[38;5;28;43;01mFalse\u001B[39;49;00m\u001B[43m,\u001B[49m\u001B[43m \u001B[49m\u001B[43mtitle\u001B[49m\u001B[38;5;241;43m=\u001B[39;49m\u001B[38;5;124;43m\"\u001B[39;49m\u001B[38;5;124;43mDetect Anomalies With Hampel Method\u001B[39;49m\u001B[38;5;124;43m\"\u001B[39;49m\u001B[43m,\u001B[49m\u001B[43m \u001B[49m\u001B[43mshowStatOnChart\u001B[49m\u001B[38;5;241;43m=\u001B[39;49m\u001B[38;5;28;43;01mFalse\u001B[39;49;00m\u001B[43m,\u001B[49m\u001B[43m \u001B[49m\u001B[43mshowControlsOnChart\u001B[49m\u001B[38;5;241;43m=\u001B[39;49m\u001B[38;5;28;43;01mFalse\u001B[39;49;00m\u001B[43m)\u001B[49m\n",
      "\u001B[1;31mTypeError\u001B[0m: RenderBokeh() got an unexpected keyword argument 'title'"
     ]
    }
   ],
   "source": [
    "priceModel.RenderGoogle(fileName=\"googlechart.html\", viewInBrowser=False, title=\"Detect Anomalies With Hampel Method\")\n",
    "# TODO:\n",
    "priceModel.RenderBokeh(fileName=\"bokehchart.html\", viewInBrowser=False, title=\"Detect Anomalies With Hampel Method\", showStatOnChart=False, showControlsOnChart=False, inline=True)"
   ]
  },
  {
   "cell_type": "markdown",
   "source": [
    "После отработки методов `RenderGoogle()` и `RenderBokeh()` также будет автоматически пересчитана статистика ряда и сохранена в Markdown-файле с именем `fileName + \".md\"`. Она станет доступна в переменной `priceModel.stat` и может пригодиться для дальнейших исследований."
   ],
   "metadata": {
    "collapsed": false
   }
  },
  {
   "cell_type": "code",
   "execution_count": null,
   "outputs": [],
   "source": [
    "priceModel.stat"
   ],
   "metadata": {
    "collapsed": false
   }
  },
  {
   "cell_type": "markdown",
   "source": [
    "Кроме того, в Pandas Dataframe `priceModel.prices` добавляются новые столбцы со значением рассчитанных средних точек, размером свечей (дельта, разница между high и low) и индикаторов:"
   ],
   "metadata": {
    "collapsed": false
   }
  },
  {
   "cell_type": "code",
   "execution_count": null,
   "outputs": [],
   "source": [
    "priceModel.prices"
   ],
   "metadata": {
    "collapsed": false
   }
  },
  {
   "cell_type": "markdown",
   "source": [
    "На этом завершим знакомство с библиотекой [PriceGenerator](https://github.com/Tim55667757/PriceGenerator/blob/master/README_RU.md). При необходимости можно самостоятельно продолжить её изучение и запускать с различными параметрами. Для нашего примера, самое главное, что она сгенерировала Pandas Dataframe с данными, очень похожими на биржевые цены.\n",
    "\n",
    "Как видно невооружённым глазом, в ряду на графике цен явно присутствуют выбросы — сверху и снизу у некоторых свечей. Нас будут интересовать не все такие выбросы, а только слишком длинные хвосты (тени свечей) или слишком большие размеры свечи в целом.\n",
    "\n",
    "Далее очистим датафрейм с OHLCV-свечами и оставим только ценовые столбцы (без значений индикаторов), а также дельту свечей. Затем посчитаем размеры верхней (upper) и нижней (lower) теней свечей. Эти данные пригодятся нам для поиска выбросов вверх и вниз, а также для выявления аномального размера свечи."
   ],
   "metadata": {
    "collapsed": false
   }
  },
  {
   "cell_type": "code",
   "execution_count": null,
   "outputs": [],
   "source": [
    "priceModel.prices = pd.DataFrame.copy(priceModel.prices, deep=True)[[\"datetime\", \"open\", \"high\", \"low\", \"close\", \"volume\", \"delta\"]]\n",
    "priceModel.prices[\"upper\"] = priceModel.prices.high - priceModel.prices[[\"open\", \"close\"]].max(axis=1)\n",
    "priceModel.prices[\"lower\"] = priceModel.prices[[\"open\", \"close\"]].min(axis=1) - priceModel.prices.low\n",
    "priceModel.prices"
   ],
   "metadata": {
    "collapsed": false
   }
  },
  {
   "cell_type": "markdown",
   "source": [
    "Изучив последние три получившихся столбца в датафрейме `priceModel.prices` убеждаемся, что теперь аномальные элементы, ранее обнаруженные визуально на графике, присутствуют в виде элементов числовых рядов. Эти ряды уже можно отфильтровать методом `HampelFilter()`. Давайте посмотрим, как фильтр Хампеля с параметрами по умолчанию (`window = 5`, `sigma = 3` и `scaleFactor = 1.4826`) справится с обнаружением аномальных ценовых выбросов и размеров. Как было показано ранее, в примерах выше, аномальными могут быть признаны как очень маленькие элементы, так и очень большие (по сравнению с остальными элементами в скользящем окне)."
   ],
   "metadata": {
    "collapsed": false
   }
  },
  {
   "cell_type": "markdown",
   "source": [
    "Фильтруем свечи с аномальными размерами:"
   ],
   "metadata": {
    "collapsed": false
   }
  },
  {
   "cell_type": "code",
   "execution_count": null,
   "outputs": [],
   "source": [
    "fDelta = HampelFilter(priceModel.prices.delta)"
   ],
   "metadata": {
    "collapsed": false
   }
  },
  {
   "cell_type": "markdown",
   "source": [
    "Фильтруем свечи с аномальными верхними тенями:"
   ],
   "metadata": {
    "collapsed": false
   }
  },
  {
   "cell_type": "code",
   "execution_count": null,
   "outputs": [],
   "source": [
    "fUpper = HampelFilter(priceModel.prices.upper)"
   ],
   "metadata": {
    "collapsed": false
   }
  },
  {
   "cell_type": "markdown",
   "source": [
    "Фильтруем свечи с аномальными нижними тенями:"
   ],
   "metadata": {
    "collapsed": false
   }
  },
  {
   "cell_type": "code",
   "execution_count": null,
   "outputs": [],
   "source": [
    "fLower = HampelFilter(priceModel.prices.lower)"
   ],
   "metadata": {
    "collapsed": false
   }
  },
  {
   "cell_type": "markdown",
   "source": [
    "Промаркируем аномальные свечи и тени на графике и посмотрим на результаты фильтрации:"
   ],
   "metadata": {
    "collapsed": false
   }
  },
  {
   "cell_type": "code",
   "execution_count": null,
   "outputs": [],
   "source": [
    "# TODO:\n",
    "priceModel.RenderBokeh(\n",
    "    fileName=\"hampel_default.html\",\n",
    "    viewInBrowser=False,  # Не открываем график в браузере лишний раз.\n",
    "    darkTheme=False,  # Выбираем светлую тему графика.\n",
    "    layouts=None,  # Пока нет дополнительных маркеров для графика.\n",
    "    title=\"Detect Anomalies With Hampel Method\",  # Заголовок графика.\n",
    "    width=1800,  # Ширина графика в пикселях.\n",
    "    height=940,  # Высота графика в пикселях.\n",
    "    showStatOnChart=False,  # Не отображаем на графике лишний блок со статистикой.\n",
    "    showControlsOnChart=True,  # Добавим на график кнопки для включения / выключения объектов.\n",
    "    inline=True,  # Отобразим график в ячейке ноутбука.\n",
    ")"
   ],
   "metadata": {
    "collapsed": false
   }
  },
  {
   "cell_type": "markdown",
   "source": [
    "На первый взгляд кажется, что аномалий найдено слишком много. Для наблюдателя, который не знает про малый размер скользящего окна, эти результаты будут неочевидны. Давайте попробуем расширить окно на весь числовой ряд и заново промаркировать аномальные элементы."
   ],
   "metadata": {
    "collapsed": false
   }
  },
  {
   "cell_type": "code",
   "execution_count": null,
   "outputs": [],
   "source": [
    "fDelta = HampelFilter(priceModel.prices.delta, window=len(priceModel.prices.delta))\n",
    "fUpper = HampelFilter(priceModel.prices.upper, window=len(priceModel.prices.delta))\n",
    "fLower = HampelFilter(priceModel.prices.lower, window=len(priceModel.prices.delta))\n",
    "\n",
    "# TODO:\n",
    "priceModel.RenderBokeh(\n",
    "    fileName=\"hampel_with_wide_window.html\",\n",
    "    viewInBrowser=False,  # Не открываем график в браузере лишний раз.\n",
    "    darkTheme=False,  # Выбираем светлую тему графика.\n",
    "    layouts=None,  # Пока нет дополнительных маркеров для графика.\n",
    "    title=\"Detect Anomalies With Hampel Method\",  # Заголовок графика.\n",
    "    width=1800,  # Ширина графика в пикселях.\n",
    "    height=940,  # Высота графика в пикселях.\n",
    "    showStatOnChart=False,  # Не отображаем на графике лишний блок со статистикой.\n",
    "    showControlsOnChart=True,  # Добавим на график кнопки для включения / выключения объектов.\n",
    "    inline=True,  # Отобразим график в ячейке ноутбука.\n",
    ")"
   ],
   "metadata": {
    "collapsed": false
   }
  },
  {
   "cell_type": "markdown",
   "source": [
    "Вот теперь видим, что на графике промаркированы только те элементы, про которые большинство наблюдателей, оценивающих картину в целом, скорее всего сказали бы, что это аномалии."
   ],
   "metadata": {
    "collapsed": false
   }
  },
  {
   "cell_type": "markdown",
   "source": [
    "## Выводы\n",
    "\n",
    "На практике фильтр Хампеля оказывается чрезвычайно эффективным. Благодаря современным библиотекам, таким как [Pandas](https://pandas.pydata.org/), он справляется с достаточно большими числовыми рядами на десятки тысяч элементов за секунды, а также легко поддаётся оптимизации и распараллеливанию (с помощью [CUDA Python](https://developer.nvidia.com/cuda-python) и декоратора [@cuda.jit от Numba](https://numba.readthedocs.io/en/stable/user/jit.html#compiling-python-code-with-jit), либо [Python Multiprocessing ThreadPool](https://superfastpython.com/threadpool-python/)).\n",
    "\n",
    "Таким образом, если у вас стоит задача поиска аномалий в числовом ряду, попробуйте посмотреть в сторону их фильтрации методом Хампеля. Он даёт быстрые результаты, а также прост в понимании и реализации."
   ],
   "metadata": {
    "collapsed": false
   }
  },
  {
   "cell_type": "markdown",
   "source": [
    "## Источники\n",
    "\n",
    "1. Hampel F. R. The influence curve and its role in robust estimation. Journal of the American Statistical Association, 69, 382–393, 1974.\n",
    "2. Hancong Liu, Sirish Shah and Wei Jiang. [On-line outlier detection and data cleaning](https://sites.ualberta.ca/~slshah/files/on_line_outlier_det.pdf). Computers and Chemical Engineering. Vol. 28, March 2004, pp. 1635–1647.\n",
    "3. Lewinson Eryk. [Outlier Detection with Hampel Filter](https://towardsdatascience.com/outlier-detection-with-hampel-filter-85ddf523c73d). September 26, 2019."
   ],
   "metadata": {
    "collapsed": false
   }
  },
  {
   "cell_type": "markdown",
   "source": [
    "## Исходный код модулей, используемых в примерах\n",
    "\n",
    "- **[PriceGenerator](https://github.com/Tim55667757/PriceGenerator)** — этот модуль умеет генерировать временные ряды с данными, похожими на случайные биржевые цены с аномалиями.\n",
    "- **[TKSBrokerAPI](https://github.com/Tim55667757/TKSBrokerAPI)** — этот модуль содержит в себе библиотеку TradeRoutines с необходимыми функциями.\n",
    "  - **[TradeRoutines](https://github.com/Tim55667757/TKSBrokerAPI/blob/develop/tksbrokerapi/TradeRoutines.py)** — в этой библиотеке есть методы для анализа числовых рядов на аномалии."
   ],
   "metadata": {
    "collapsed": false
   }
  }
 ],
 "metadata": {
  "kernelspec": {
   "display_name": "Python 3 (ipykernel)",
   "language": "python",
   "name": "python3"
  },
  "language_info": {
   "codemirror_mode": {
    "name": "ipython",
    "version": 3
   },
   "file_extension": ".py",
   "mimetype": "text/x-python",
   "name": "python",
   "nbconvert_exporter": "python",
   "pygments_lexer": "ipython3",
   "version": "3.9.13"
  },
  "widgets": {
   "application/vnd.jupyter.widget-state+json": {
    "state": {},
    "version_major": 2,
    "version_minor": 0
   }
  }
 },
 "nbformat": 4,
 "nbformat_minor": 1
}
